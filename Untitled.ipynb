{
 "cells": [
  {
   "cell_type": "code",
   "execution_count": 1,
   "metadata": {
    "collapsed": false,
    "scrolled": true
   },
   "outputs": [
    {
     "name": "stdout",
     "output_type": "stream",
     "text": [
      "LOADIONG PACKAGE\n"
     ]
    }
   ],
   "source": [
    "import numpy as np\n",
    "print (\"LOADIONG PACKAGE\")"
   ]
  },
  {
   "cell_type": "code",
   "execution_count": 2,
   "metadata": {
    "collapsed": false
   },
   "outputs": [
    {
     "name": "stdout",
     "output_type": "stream",
     "text": [
      "HELLO WORLD\n"
     ]
    }
   ],
   "source": [
    "print (\"HELLO WORLD\")"
   ]
  },
  {
   "cell_type": "code",
   "execution_count": 3,
   "metadata": {
    "collapsed": false,
    "scrolled": true
   },
   "outputs": [
    {
     "name": "stdout",
     "output_type": "stream",
     "text": [
      "INTEGER:  3, 03, 003, 0003\n",
      "FLOAT:  123, 123.5, 123.46, 123.456\n"
     ]
    }
   ],
   "source": [
    "x = 3\n",
    "print (\"INTEGER:  %01d, %02d, %03d, %04d\" %(x,x,x,x))\n",
    "x = 123.456\n",
    "print (\"FLOAT:  %.0f, %.1f, %.2f, %.3f\" % (x,x,x,x))"
   ]
  },
  {
   "cell_type": "code",
   "execution_count": 4,
   "metadata": {
    "collapsed": false
   },
   "outputs": [
    {
     "name": "stdout",
     "output_type": "stream",
     "text": [
      "[ANN]\n",
      "[MLP]\n",
      "[CNN]\n",
      "[RNN]\n",
      "[DAE]\n"
     ]
    }
   ],
   "source": [
    "dlmethods = [\"ANN\", \"MLP\", \"CNN\", \"RNN\", \"DAE\"]\n",
    "for alg in dlmethods:\n",
    "    print (\"[%s]\" %alg)"
   ]
  },
  {
   "cell_type": "code",
   "execution_count": 5,
   "metadata": {
    "collapsed": false
   },
   "outputs": [
    {
     "name": "stdout",
     "output_type": "stream",
     "text": [
      "[0][ANN]\n",
      "[1][MLP]\n",
      "[2][CNN]\n",
      "[3][RNN]\n",
      "[4][DAE]\n"
     ]
    }
   ],
   "source": [
    "dlmethods = [\"ANN\", \"MLP\", \"CNN\", \"RNN\", \"DAE\"]\n",
    "for i, alg in enumerate(dlmethods):\n",
    "    print (\"[%d][%s]\"  %(i, alg))"
   ]
  },
  {
   "cell_type": "code",
   "execution_count": 6,
   "metadata": {
    "collapsed": false
   },
   "outputs": [
    {
     "name": "stdout",
     "output_type": "stream",
     "text": [
      "[ANN] is a feed-forwar network\n",
      "[MLP] is a feed-forwar network\n",
      "[CNN] is a feed-forwar network\n",
      "[RNN] is a recurrent network.\n",
      "[DAE] is an unsupervised method.\n"
     ]
    }
   ],
   "source": [
    "dlmethods = [\"ANN\", \"MLP\", \"CNN\", \"RNN\", \"DAE\"]\n",
    "for alg in dlmethods:\n",
    "    if alg in [\"ANN\", \"MLP\", \"CNN\"] :\n",
    "        print(\"[\" +  alg +  \"] is a feed-forwar network\")\n",
    "    elif alg in [\"RNN\"] :\n",
    "        print(\"[%s] is a recurrent network.\" %(alg))\n",
    "    else:\n",
    "        print(\"[%s] is an unsupervised method.\" %alg)"
   ]
  },
  {
   "cell_type": "code",
   "execution_count": null,
   "metadata": {
    "collapsed": true
   },
   "outputs": [],
   "source": []
  }
 ],
 "metadata": {
  "kernelspec": {
   "display_name": "Python 3",
   "language": "python",
   "name": "python3"
  },
  "language_info": {
   "codemirror_mode": {
    "name": "ipython",
    "version": 3
   },
   "file_extension": ".py",
   "mimetype": "text/x-python",
   "name": "python",
   "nbconvert_exporter": "python",
   "pygments_lexer": "ipython3",
   "version": "3.6.0"
  }
 },
 "nbformat": 4,
 "nbformat_minor": 2
}
